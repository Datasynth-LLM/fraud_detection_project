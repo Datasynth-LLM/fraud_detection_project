{
 "cells": [
  {
   "cell_type": "code",
   "execution_count": null,
   "id": "fa833b53-0133-4487-8652-25bb5b86947c",
   "metadata": {},
   "outputs": [
    {
     "name": "stdout",
     "output_type": "stream",
     "text": [
      "✅ Combined shape: (1754155, 9)\n",
      "📄 Columns: ['TRANSACTION_ID', 'TX_DATETIME', 'CUSTOMER_ID', 'TERMINAL_ID', 'TX_AMOUNT', 'TX_TIME_SECONDS', 'TX_TIME_DAYS', 'TX_FRAUD', 'TX_FRAUD_SCENARIO']\n",
      "   TRANSACTION_ID         TX_DATETIME CUSTOMER_ID TERMINAL_ID  TX_AMOUNT  \\\n",
      "0               0 2018-04-01 00:00:31         596        3156      57.16   \n",
      "1               1 2018-04-01 00:02:10        4961        3412      81.51   \n",
      "2               2 2018-04-01 00:07:56           2        1365     146.00   \n",
      "3               3 2018-04-01 00:09:29        4128        8737      64.49   \n",
      "4               4 2018-04-01 00:10:34         927        9906      50.99   \n",
      "\n",
      "  TX_TIME_SECONDS TX_TIME_DAYS  TX_FRAUD  TX_FRAUD_SCENARIO  \n",
      "0              31            0         0                  0  \n",
      "1             130            0         0                  0  \n",
      "2             476            0         0                  0  \n",
      "3             569            0         0                  0  \n",
      "4             634            0         0                  0  \n"
     ]
    }
   ],
   "source": [
    "import pandas as pd\n",
    "import os\n",
    "\n",
    "folder_path = r\"C:\\Users\\avish\\Documents\\fraud_detection_project\\data\"\n",
    "pkl_files = sorted([f for f in os.listdir(folder_path) if f.endswith(\".pkl\")])\n",
    "\n",
    "all_dfs = []\n",
    "for file in pkl_files:\n",
    "    full_path = os.path.join(folder_path, file)\n",
    "    try:\n",
    "        df = pd.read_pickle(full_path)\n",
    "        all_dfs.append(df)\n",
    "    except Exception as e:\n",
    "        print(f\"❌ Failed to load {file}: {e}\")\n",
    "\n",
    "# Combine and sort\n",
    "df_all = pd.concat(all_dfs, ignore_index=True)\n",
    "df_all[\"TX_DATETIME\"] = pd.to_datetime(df_all[\"TX_DATETIME\"])\n",
    "df_all = df_all.sort_values(\"TX_DATETIME\").reset_index(drop=True)\n",
    "\n",
    "# Summary\n",
    "print(\"✅ Combined shape:\", df_all.shape)\n",
    "print(\"📄 Columns:\", df_all.columns.tolist())\n",
    "print(df_all.head())\n"
   ]
  },
  {
   "cell_type": "code",
   "execution_count": null,
   "id": "44f887bc-c500-493b-af8e-6c79201efff9",
   "metadata": {},
   "outputs": [],
   "source": []
  }
 ],
 "metadata": {
  "kernelspec": {
   "display_name": "Python 3 (ipykernel)",
   "language": "python",
   "name": "python3"
  },
  "language_info": {
   "codemirror_mode": {
    "name": "ipython",
    "version": 3
   },
   "file_extension": ".py",
   "mimetype": "text/x-python",
   "name": "python",
   "nbconvert_exporter": "python",
   "pygments_lexer": "ipython3",
   "version": "3.13.5"
  }
 },
 "nbformat": 4,
 "nbformat_minor": 5
}
